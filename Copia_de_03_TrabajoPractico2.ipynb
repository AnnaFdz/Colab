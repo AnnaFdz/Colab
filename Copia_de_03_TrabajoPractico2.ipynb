{
  "cells": [
    {
      "cell_type": "markdown",
      "metadata": {
        "id": "view-in-github",
        "colab_type": "text"
      },
      "source": [
        "<a href=\"https://colab.research.google.com/github/AnnaFdz/Colab/blob/main/Copia_de_03_TrabajoPractico2.ipynb\" target=\"_parent\"><img src=\"https://colab.research.google.com/assets/colab-badge.svg\" alt=\"Open In Colab\"/></a>"
      ]
    },
    {
      "cell_type": "markdown",
      "metadata": {
        "id": "3s3eGj4I53_l"
      },
      "source": [
        "# **Trabajo Práctico 2 - Propiedades de los objetos**"
      ]
    },
    {
      "cell_type": "markdown",
      "metadata": {
        "id": "pasOA7xQ53_q"
      },
      "source": [
        "### Ejercicio 1\n",
        "\n",
        "Para cada una de las clases creadas en el TP anterior, agregue un constructor (método `__init__`) para inicializar los valores de los atributos.  \n",
        "  \n",
        "Instancie distintos objetos de cada clase y muestre los valores de sus atributos.  \n",
        "  \n",
        "#### Por ejemplo:\n",
        "\n",
        "En la clase circulo podemos hacer que el radio sea un atributo que se deba indicar al crear un nuevo objeto.\n",
        "\n",
        "```python\n",
        "import math\n",
        "\n",
        "class Circulo:\n",
        "    \"\"\"Clase que representa un circulo.\"\"\"\n",
        "\n",
        "    def __init__(self, radio):\n",
        "        \"\"\"Recibir atributo radio del circulo por parametro.\"\"\"\n",
        "        self.radio = radio\n",
        "\n",
        "    def area(self):\n",
        "        \"\"\"Calcular el area del circulo.\"\"\"\n",
        "        return math.pi*self.radio**2    # calcula el area con el valor del atributo radio\n",
        "\n",
        "unitario = Circulo(1)\n",
        "print(unitario.radio)\n",
        "# print(unitario.area())\n",
        "```"
      ]
    },
    {
      "cell_type": "code",
      "source": [
        "class Gato:\n",
        "    \n",
        "    def __init__(self, nombre, raza, edad, color, tamanio, peso, duenio):\n",
        "        self.nombre = nombre\n",
        "        self.raza = raza\n",
        "        self.edad = edad\n",
        "        self.color = color\n",
        "        self.tamanio = tamanio\n",
        "        self.peso = peso\n",
        "        self.duenio = duenio\n",
        "    def maullar(self):\n",
        "      print(\"miauu!!\")   \n",
        "\n",
        "    def ronrronear(self):\n",
        "      print(\"purrr\") \n",
        "\n",
        "    def dormir(self):\n",
        "      print(\"Zzzz\") \n",
        "\n",
        "      \n",
        "kira= Gato(\"Kira\",\"Mau egipcio\", 2, \"negra\", \"mediano\", 3, \"Cristian\")\n",
        "print(kira.nombre,kira.color,kira.raza)\n",
        "\n",
        "kira.maullar()\n",
        "kira.dormir()"
      ],
      "metadata": {
        "colab": {
          "base_uri": "https://localhost:8080/"
        },
        "id": "bRoeOSAISqGe",
        "outputId": "26cad8cf-ae41-49f3-a675-b544ea3f6c7a"
      },
      "execution_count": null,
      "outputs": [
        {
          "output_type": "stream",
          "name": "stdout",
          "text": [
            "Kira negra Mau egipcio\n",
            "miauu!!\n",
            "Zzzz\n"
          ]
        }
      ]
    },
    {
      "cell_type": "code",
      "source": [
        "\n",
        "class Triangulo:\n",
        "  def __init__(self, tipo, base, lado1, lado2, altura):\n",
        "        self.tipo = tipo\n",
        "        self.base = base\n",
        "        self.lado1 = lado1\n",
        "        self.lado2 = lado2\n",
        "        self.altura = altura\n",
        "        \n",
        "  def calcular_perimetro(self, base, lado1, lado2):\n",
        "\n",
        "    return self.base+self.lado1+self.lado2\n",
        "\n",
        "  def calcular_area(self, base, altura):  \n",
        "    return (self.base*self.altura)/2"
      ],
      "metadata": {
        "id": "QzYjnuFWS-Vn"
      },
      "execution_count": null,
      "outputs": []
    },
    {
      "cell_type": "code",
      "source": [
        "# computadora\n",
        "class Computadora:\n",
        "  def __init__(self,procesador,memoria,marca):\n",
        "    self.procesador=procesador\n",
        "    self.memoria=memoria\n",
        "    self.marca=marca\n",
        "  \n",
        "  def encender(self):\n",
        "    print(\"Estoy encendida\")\n",
        "\n",
        "  def apagarse(self)  :\n",
        "    print(\"Estoy apagada\")\n",
        "\n",
        "eniac=Computadora(\"i9\",16,\"hp\")\n",
        "print(eniac.memoria)\n",
        "eniac.encender()    "
      ],
      "metadata": {
        "id": "86pLyOb7T8IL"
      },
      "execution_count": null,
      "outputs": []
    },
    {
      "cell_type": "code",
      "source": [
        "# automovil\n",
        "class Automovil:\n",
        "  def __init__(self,marca,modelo,color,km):\n",
        "    self.marca=marca\n",
        "    self.modelo=modelo\n",
        "    self.color=color\n",
        "    self.km=km\n",
        "  \n",
        "  def arrancar(self):\n",
        "    print(\"Estoy listo\")\n",
        "  \n",
        "  def avanzar(self):\n",
        "    print(\"Estoy avanzando hacia adelante\")"
      ],
      "metadata": {
        "id": "7y-KoiNTUB0V"
      },
      "execution_count": null,
      "outputs": []
    },
    {
      "cell_type": "code",
      "source": [
        "# rectangulo\n",
        "class Rectangulo:\n",
        "  def __init__(self,base,altura):\n",
        "    self.base=base\n",
        "    self.altura=altura\n",
        "  \n",
        "  def perimetro(self):\n",
        "    return 2*self.base+2*self.altura\n",
        "  \n",
        "  def area(self):\n",
        "    return self.base*self.altura"
      ],
      "metadata": {
        "id": "4IcIABYlUcNz"
      },
      "execution_count": null,
      "outputs": []
    },
    {
      "cell_type": "code",
      "source": [
        "# triangulo\n",
        "class Triangulo:\n",
        "  def __init__(self,cat_mayor,cat_menor,hip):\n",
        "    self.cat_mayor=cat_mayor\n",
        "    self.cat_menor=cat_menor\n",
        "    self.hip=hip\n",
        "  \n",
        "  def perimetro(self):\n",
        "    return self.cat_menor+self.cat_mayor+self.hip\n",
        "  \n",
        "  def area(self):\n",
        "    return self.cat_menor*self.cat_mayor/2"
      ],
      "metadata": {
        "id": "vdu40kG8VOqx"
      },
      "execution_count": null,
      "outputs": []
    },
    {
      "cell_type": "code",
      "source": [
        "# agenda telefonica\n",
        "class AgendaTelefonica:\n",
        "  def __init__(self):\n",
        "    self.contactos=[]\n",
        "\n",
        "  def agendar(self,nombre,apellido,telefono, direccion=None, mail=None):\n",
        "    self.contactos.append((nombre,apellido,telefono))\n",
        "  \n",
        "  def buscar_apellido(self,apellido):\n",
        "    for contacto in self.contactos:\n",
        "      if contacto[1]==apellido:\n",
        "        print(contacto)\n",
        "  \n",
        "  def buscar_nombre(self,nombre):\n",
        "    for contacto in self.contactos:\n",
        "      if contacto[0]==nombre:\n",
        "        print(contacto)"
      ],
      "metadata": {
        "id": "uccWG2gCXHSI"
      },
      "execution_count": null,
      "outputs": []
    },
    {
      "cell_type": "markdown",
      "metadata": {
        "id": "zad8X9XB53_w"
      },
      "source": [
        "### Ejercicio 2\n",
        "\n",
        "Crear una clase llamada Persona con los atributos: nombre, edad y DNI.  \n",
        "Diseñar los siguientes métodos para la clase:  \n",
        "\n",
        "* Un constructor, donde el DNI pueda estar sin especificar (usar un parámetro con un valor por defecto).\n",
        "* Mostrar todos los datos de una persona.\n",
        "* Determinar si es mayor de edad. O sea, debe responder un `bool`.\n",
        "\n",
        "Instanciar 5 personas con valores aleatorios de edad entre 15 y 22 años, almacenar a las personas en una lista. Luego, recorrer la lista y mostrar el **nombre** de las personas que sean mayores de edad."
      ]
    },
    {
      "cell_type": "code",
      "source": [
        "import random\n",
        "class Persona:\n",
        "  def __init__(self,nombre, edad,dni=0):\n",
        "    self.nombre=nombre\n",
        "    self.edad= edad\n",
        "    self.dni= dni\n",
        "  \n",
        "  def __str__(self):\n",
        "    salida= f\"Nombre: {self.nombre}\\nEdad: {self.edad}\\nDNI: {self.dni}\"\n",
        "    return salida\n",
        "\n",
        "  def es_mayor(self):\n",
        "    return self.edad>=18  \n",
        "def edad_random():\n",
        "  return random.randint(15,22)\n",
        "def dni_random():\n",
        "  return random.randint(3055676,4022656)\n",
        "  \n",
        "lista_de_personas = []\n",
        "\n",
        "cristian= Persona(\"Cristian\",edad_random(), dni_random())\n",
        "for i in range(5):\n",
        "  lista_de_personas.append(Persona(\"p\"+str(i), edad_random(), dni_random()))\n",
        "  print(lista_de_personas[i])\n",
        "\n",
        "for p in lista_de_personas:\n",
        "  if p.es_mayor():\n",
        "    print(p.nombre, \" es mayor de edad\")  \n",
        "\n",
        "print(cristian)\n",
        "print(cristian.nombre,\" es mayor? \",cristian.es_mayor())\n"
      ],
      "metadata": {
        "colab": {
          "base_uri": "https://localhost:8080/"
        },
        "id": "M03fMhgkeBPI",
        "outputId": "465525b3-32ff-4d7a-e466-956270438df8"
      },
      "execution_count": null,
      "outputs": [
        {
          "output_type": "stream",
          "name": "stdout",
          "text": [
            "Nombre: p0\n",
            "Edad: 18\n",
            "DNI: 3215661\n",
            "Nombre: p1\n",
            "Edad: 16\n",
            "DNI: 3514632\n",
            "Nombre: p2\n",
            "Edad: 17\n",
            "DNI: 3586539\n",
            "Nombre: p3\n",
            "Edad: 21\n",
            "DNI: 3978694\n",
            "Nombre: p4\n",
            "Edad: 20\n",
            "DNI: 3267105\n",
            "p0  es mayor de edad\n",
            "p3  es mayor de edad\n",
            "p4  es mayor de edad\n",
            "Nombre: Cristian\n",
            "Edad: 21\n",
            "DNI: 3627934\n",
            "Cristian  es mayor?  True\n"
          ]
        }
      ]
    },
    {
      "cell_type": "markdown",
      "metadata": {
        "id": "NLmgzlIr53_y"
      },
      "source": [
        "### Ejercicio 3\n",
        "\n",
        "Crear una clase llamada Cuenta (representa una cuenta bancaria simplificada) que tendrá los atributos:  \n",
        "  \n",
        "* titular (el nombre del titular)  \n",
        "* saldo (puede tener decimales)  \n",
        "\n",
        "Construye los siguientes métodos para la clase:  \n",
        "\n",
        "* Un constructor. El titular será obligatorio y el saldo es opcional, si no se lo incluye al crear el objeto, se incializará en `0.0`.\n",
        "* `mostrar()`: Muestra los datos de la cuenta.\n",
        "* `ingresar(cantidad)`: se ingresa una cantidad a la cuenta, actualizando el valor de saldo, si la cantidad introducida es negativa, no se hará nada.\n",
        "* `retirar(cantidad)`: se retira una cantidad del saldo de la cuenta, el valor de cantidad siempre debe ser positivo. La cuenta puede estar en números rojos.\n",
        "\n",
        "Instanciar una `Cuenta` y realizar 10 movimientos aleatorios de ingreso y retiro y mostrar el estado final."
      ]
    },
    {
      "cell_type": "code",
      "source": [
        "class Cuenta:\n",
        "  def __init__(self,persona,saldo=0.0):\n",
        "    self.persona=persona\n",
        "    self.saldo=saldo\n",
        "  \n",
        "  def mostrar(self):\n",
        "    print(\"Cliente:\")\n",
        "    print(self.persona)\n",
        "    print(\"Saldo: \", self.saldo)\n",
        "    \n",
        "  def ingresar(self,cantidad):\n",
        "    if cantidad>0:\n",
        "      self.saldo= round(self.saldo+cantidad,2)\n",
        "\n",
        "  def retirar(self,cantidad):\n",
        "    if cantidad>0:\n",
        "      self.saldo=round(self.saldo-cantidad,2)\n",
        "\n",
        "\n",
        "cuenta= Cuenta(cristian)\n",
        "import random\n",
        "for i in range(10):\n",
        "  print(f\"Dinero disponible: {cuenta.saldo} pesos\")\n",
        "  movimiento= random.randint(0,1)\n",
        "  monto= round(random.random()*10000,2)\n",
        "  if movimiento==0:\n",
        "    cuenta.ingresar(monto)\n",
        "    print(f\"Ingreso {monto} pesos\")\n",
        "  else:\n",
        "    cuenta.retirar(monto)\n",
        "    print(f\"Retiro {monto} pesos\")\n",
        "  print()\n",
        "\n",
        "cuenta.mostrar()"
      ],
      "metadata": {
        "id": "iNmqzXy2aDLA"
      },
      "execution_count": null,
      "outputs": []
    },
    {
      "cell_type": "code",
      "source": [
        "class Cuenta:\n",
        "  def __init__(self, nombre,saldo=0.0):\n",
        "    self.nombre=nombre\n",
        "    self.saldo=saldo\n",
        "  \n",
        "  def mostrar(self):\n",
        "    print(\"Cliente: \",self.nombre)\n",
        "    print(\"Saldo: \", self.saldo)\n",
        "    \n",
        "  def ingresar(self,cantidad):\n",
        "    if cantidad>0:\n",
        "      self.saldo= round(self.saldo+cantidad,2)\n",
        "\n",
        "  def retirar(self,cantidad):\n",
        "    if cantidad>0 and cantidad >= self.saldo:\n",
        "      self.saldo=round(self.saldo-cantidad,2)\n",
        "     \n",
        "cuenta= Cuenta(\"Cristian\")\n",
        "import random\n",
        "for i in range(10):\n",
        "  print(f\"Dinero disponible: {cuenta.saldo} pesos\")\n",
        "  movimiento= random.randint(0,1)\n",
        "  monto= round(random.random()*10000,2)\n",
        "  if movimiento==0:\n",
        "    cuenta.ingresar(monto)\n",
        "    print(f\"Ingreso {monto} pesos\")\n",
        "  else:\n",
        "    cuenta.retirar(monto)\n",
        "    print(f\"Retiro {monto} pesos\")\n",
        "  print()\n",
        "\n",
        "cuenta.mostrar()"
      ],
      "metadata": {
        "colab": {
          "base_uri": "https://localhost:8080/"
        },
        "id": "4HaexeR5jqAE",
        "outputId": "965cdc09-c113-47ce-8c37-89652b82f45a"
      },
      "execution_count": null,
      "outputs": [
        {
          "output_type": "stream",
          "name": "stdout",
          "text": [
            "Dinero disponible: 0.0 pesos\n",
            "Ingreso 2689.78 pesos\n",
            "\n",
            "Dinero disponible: 2689.78 pesos\n",
            "Retiro 3264.0 pesos\n",
            "\n",
            "Dinero disponible: -574.22 pesos\n",
            "Retiro 1296.26 pesos\n",
            "\n",
            "Dinero disponible: -1870.48 pesos\n",
            "Ingreso 9675.7 pesos\n",
            "\n",
            "Dinero disponible: 7805.22 pesos\n",
            "Ingreso 4786.46 pesos\n",
            "\n",
            "Dinero disponible: 12591.68 pesos\n",
            "Retiro 2086.71 pesos\n",
            "\n",
            "Dinero disponible: 12591.68 pesos\n",
            "Ingreso 8928.67 pesos\n",
            "\n",
            "Dinero disponible: 21520.35 pesos\n",
            "Ingreso 6257.04 pesos\n",
            "\n",
            "Dinero disponible: 27777.39 pesos\n",
            "Retiro 4999.7 pesos\n",
            "\n",
            "Dinero disponible: 27777.39 pesos\n",
            "Ingreso 1021.17 pesos\n",
            "\n",
            "Cliente:  Cristian\n",
            "Saldo:  28798.56\n"
          ]
        }
      ]
    },
    {
      "cell_type": "markdown",
      "metadata": {
        "id": "zT1GngC_53_0"
      },
      "source": [
        "### Ejercicio 4\n",
        "\n",
        "Crear una clase llamada Punto con 2 atributos `x` e `y` que representen coordenadas de un punto en el [plano cartesiano](https://es.wikipedia.org/wiki/Coordenadas_cartesianas).  \n",
        "  \n",
        "Diseñar los siguientes métodos para la clase:  \n",
        "  \n",
        "* Un constructor para crear puntos fácilmente. Si no se reciben los valores de las coordenadas, su valor será cero.\n",
        "* Un método `tupla()` que devuelva una tupla con los valores de `x` e `y`, en ese orden.  \n",
        "* Añade un método llamado `cuadrante` que indique a qué cuadrante pertenece el punto, teniendo en cuenta que:\n",
        "    * si `x` == 0 e `y` != 0 se sitúa sobre el eje `y`\n",
        "    * si `x` != 0 e `y` == 0 se sitúa sobre el eje `x`\n",
        "    * y si `x` == 0 e `y` == 0 está en el origen de coordenadas\n",
        "    \n",
        "    Cuadrantes: Al cortarse las dos rectas, dividen al plano en cuatro regiones o zonas, que se conocen con el nombre de cuadrantes:  \n",
        "    * Primer cuadrante \"I\": Región superior derecha (x>0 e y>0)  \n",
        "    * Segundo cuadrante \"II\": Región superior izquierda (x<0 e y>0)  \n",
        "    * Tercer cuadrante \"III\": Región inferior izquierda (x<0 e y<0)  \n",
        "    * Cuarto cuadrante \"IV\": Región inferior derecha (x>0 e y<0)  \n",
        "    ![imagen cuadrantes plano](https://planocartesiano.net/wp-content/uploads/2017/11/cuadrantes-plano-cartesiano-signos.jpg)  \n",
        "  \n",
        "Crear 4 objetos `Punto` con valores aleatorios entre -20 y 20 para `x` e `y`, mostrar en que cuadrante o eje están situados."
      ]
    },
    {
      "cell_type": "code",
      "source": [
        "class Punto:\n",
        "  def __init__(self,x=0,y=0):\n",
        "    self.x=x\n",
        "    self.y=y\n",
        "  \n",
        "  def tupla(self):\n",
        "    return self.x,self.y\n",
        "  \n",
        "  def cuadrante(self):\n",
        "    if self.x==0 and self.y!=0:\n",
        "      return \"Eje Y\"\n",
        "    if self.x!=0 and self.y==0:\n",
        "      return \"Eje x\"\n",
        "    if self.x==0 and self.y==0:\n",
        "      return \"Origen\"\n",
        "    if self.x>0 and self.y>0:\n",
        "      return \"Primer cuadrante\"\n",
        "    if self.x<0 and self.y>0:\n",
        "      return \"Segundo cuadrante\"\n",
        "    if self.x<0 and self.y<0:\n",
        "      return \"Tercer cuadrante\"\n",
        "    if self.x>0 and self.y<0:\n",
        "      return \"Cuarto cuadrante\"\n",
        "import random\n",
        "for i in range(4):\n",
        "  punto= Punto(random.randint(-20,20),random.randint(-20,20))\n",
        "  print(\"El punto: \",punto.tupla(),\" Se encuentra en: \",punto.cuadrante())"
      ],
      "metadata": {
        "id": "kCJ-_qDbaKPR"
      },
      "execution_count": null,
      "outputs": []
    },
    {
      "cell_type": "markdown",
      "metadata": {
        "id": "AWtqMAZz53_2"
      },
      "source": [
        "### Ejercicio 5\n",
        "\n",
        "Agregar un método llamado `distancia()` a la clase del ejercicio anterior, que reciba otro objeto `Punto` como parámetro, que mida y devuelva la distancia, en `float`, entre ese `Punto` y el `Punto` que está llamando al método. O sea, que se lo pueda usar de la siguiente manera:  \n",
        "```python\n",
        "punto1 = Punto()  # sin parámetros creará un punto en (0, 0) segun la consigna\n",
        "punto2 = Punto(1, 1)  # crea un punto en (1, 1)\n",
        "print(f\"La distancia entre {punto1.tupla()} y {punto2.tupla()} es: {punto1.distancia(punto2)})\n",
        "```\n",
        "Puedes utilizar el método `tupla()` creado anteriormente para facilitar el calculo con la función `dist()` del módulo `math` (usada en el ejercicio 5 de Trabajo Práctico 5 del Módulo 2) para calcular la distancia entre dos puntos."
      ]
    },
    {
      "cell_type": "code",
      "source": [
        "class Punto:\n",
        "  def __init__(self,x=0,y=0):\n",
        "    self.x=x\n",
        "    self.y=y\n",
        "  \n",
        "  def tupla(self):\n",
        "    return self.x,self.y\n",
        "  \n",
        "  def cuadrante(self):\n",
        "    if self.x==0 and self.y!=0:\n",
        "      return \"Eje Y\"\n",
        "    if self.x!=0 and self.y==0:\n",
        "      return \"Eje x\"\n",
        "    if self.x==0 and self.y==0:\n",
        "      return \"Origen\"\n",
        "    if self.x>0 and self.y>0:\n",
        "      return \"Primer cuadrante\"\n",
        "    if self.x<0 and self.y>0:\n",
        "      return \"Segundo cuadrante\"\n",
        "    if self.x<0 and self.y<0:\n",
        "      return \"Tercer cuadrante\"\n",
        "    if self.x>0 and self.y<0:\n",
        "      return \"Cuarto cuadrante\"\n",
        "  \n",
        "  def distancia(self,otro_punto):\n",
        "    import math\n",
        "    return math.dist(self.tupla(),otro_punto.tupla())\n",
        "\n",
        "punto1 = Punto()  # sin parámetros creará un punto en (0, 0) segun la consigna\n",
        "punto2 = Punto(1,1)  # crea un punto en (1, 1)\n",
        "print(f\"La distancia entre {punto1.tupla()} y {punto2.tupla()} es: {punto1.distancia(punto2)}\")"
      ],
      "metadata": {
        "colab": {
          "base_uri": "https://localhost:8080/"
        },
        "id": "BP8PeJCiaQE6",
        "outputId": "7f738473-fe78-4082-fdaf-da67f7c334ed"
      },
      "execution_count": null,
      "outputs": [
        {
          "output_type": "stream",
          "name": "stdout",
          "text": [
            "La distancia entre (0, 0) y (1, 1) es: 1.4142135623730951\n"
          ]
        }
      ]
    },
    {
      "cell_type": "markdown",
      "metadata": {
        "id": "ZZ3APR2E53_4"
      },
      "source": [
        "### Ejercicio 6\n",
        "\n",
        "Crear una clase `Personaje` que tenga los atributos:\n",
        "  * nombre: una cadena\n",
        "  * vida: un entero que inicia siempre con el valor 100, no puede ser mayor a 100 ni menor a 0.\n",
        "  * nivel: inicia en 1\n",
        "  * experiencia: inicia en 0\n",
        "  * fuerza: inicia en 1\n",
        "\n",
        "Y que tenga los métodos:\n",
        "  * Un constructor que tome unicamente el nombre del personaje como parámetro, pero que inicialice los demas atributos en los valores iniciales detallados anteriormente.\n",
        "  * Un método `recibir_golpe()` que reciba un entero como parámetro que indique la fuerza del golpe recibido y reste el valor de la `vida` del personaje. Si el valor de `vida` llega a 0 o menos, dejarlo en 0 mostrar un mensaje que diga `\"Game over\"`.\n",
        "  * Un método `reponer_vida()` que reciba un entero como parámetro que indique la cantidad de vida que se va a reponer en el personaje y mostrar por pantalla el valor actual de `vida`. Recordar que `vida` no puede ser mayor que 100. Si el valor de `vida` ya estaba en `0` (o sea, si ya estaba muerto) volver a mostrar el mensaje `\"Game over\"`.  \n",
        "  * Un método `golpear()` que reciba un entero que represente la vida de un enemigo, y le reste el valor de `fuerza` del personaje. Si la vida del enemigo era menor o igual que la fuerza del personaje (lo mata de un solo golpe) mostrar por pantalla el mensaje `\"Has matado a un enemigo\"` y ejecutar el método `ganar_exp()` pasando como parámetro el valor de vida del enemigo. Si el valor de `vida` del personaje ya estaba en `0` (o sea, si ya estaba muerto) volver a mostrar el mensaje `\"Game over\"`.  \n",
        "  * Un método `ganar_exp()` que reciba un entero que representa la experiencia ganada. Sumar el valor al atributo experiencia y al atributo fuerza y mostrar por pantalla el mensaje `\"Ganaste X puntos de experiencia y fuerza\"`. Si la experiencia llega a 10 o más llamar al método `subir_nivel()` y volver a colocar el atributo `experiencia` a 0.\n",
        "  * Un método `subir_nivel()` que incremente el valor del atributio `nivel` en 1 y muestre por pantalla el mensaje `\"Level up! Estás en el nivel X\"`. Si el nivel llega a 10 mostrar por pantalla el mensaje `\"Nivel máximo alcanzado. Felicidades {nombre}! Reseteando.\"` Y volver el `nivel` a 1.\n",
        "\n",
        "Instanciar un personaje (o más) y ejecutar algunos de sus métodos para hacerlo subir de nivel."
      ]
    },
    {
      "cell_type": "code",
      "source": [
        "class Personaje:\n",
        "  def __init__(self,nombre):\n",
        "    self.nombre=nombre\n",
        "    self.vida= 100\n",
        "    self.nivel= 1\n",
        "    self.experiencia=0\n",
        "    self.fuerza=1\n",
        "\n",
        "  def recibir_golpe(self,fuerza):\n",
        "    self.vida-=fuerza\n",
        "    if self.vida<=0:\n",
        "      self.vida=0\n",
        "      print(\"Game over\")\n",
        "  \n",
        "  def reponer_vida(self,vida):\n",
        "    if self.vida==0:\n",
        "      print(\"Game over\")\n",
        "    else:\n",
        "      self.vida+=vida\n",
        "      if self.vida>=100:\n",
        "        self.vida=100\n",
        "  \n",
        "  def golpear(self,vida):\n",
        "    if self.vida==0:\n",
        "      print(f\"Game over - {self.nombre}\")\n",
        "    else:\n",
        "      if vida-self.fuerza<=0:\n",
        "        print(\"Has matado a un enemigo\")\n",
        "        self.ganar_exp(vida)\n",
        "\n",
        "  def ganar_exp(self,valor):\n",
        "    self.fuerza+=valor\n",
        "    self.experiencia+=valor\n",
        "    print(f\"Ganaste {valor} puntos de experiencia y fuerza\")\n",
        "    if self.experiencia>=10:\n",
        "      self.subir_nivel()\n",
        "  \n",
        "  def subir_nivel(self):\n",
        "    self.nivel+=1\n",
        "    self.experiencia=0\n",
        "    print(f\"Level up! Estás en el nivel {self.nivel}\")\n",
        "    if self.nivel==10:\n",
        "      print(f\"Nivel máximo alcanzado. Felicidades {self.nombre}! Reseteando.\")\n",
        "      self.nivel=1\n",
        "  \n",
        "  def __str__(self):\n",
        "    resultado= \"nombre: \"+self.nombre+\"\\n\"\n",
        "    resultado+=\"Vida: \"+str(self.vida)+\"\\n\"\n",
        "    resultado+=\"Nivel: \"+str(self.nivel)+\"\\n\"\n",
        "    resultado+=\"Experiencia: \"+str(self.experiencia)+\"\\n\"\n",
        "    resultado+=\"Fuerza: \"+str(self.fuerza)+\"\\n\"\n",
        "    return resultado\n",
        "\n",
        "thanos= Personaje(\"Thanos\")\n",
        "cap= Personaje(\"Steven\")\n",
        "print(thanos.vida)\n",
        "print(cap.fuerza)\n",
        "\n",
        "\n",
        "\n"
      ],
      "metadata": {
        "colab": {
          "base_uri": "https://localhost:8080/"
        },
        "id": "x3tOdkJ4aWoc",
        "outputId": "b031907d-3715-40b3-bd40-bc6c71407ca8"
      },
      "execution_count": null,
      "outputs": [
        {
          "output_type": "stream",
          "name": "stdout",
          "text": [
            "100\n",
            "1\n",
            "nombre: Thanos\n",
            "Vida: 99\n",
            "Nivel: 1\n",
            "Experiencia: 0\n",
            "Fuerza: 1\n",
            "\n",
            "\n",
            "nombre: Steven\n",
            "Vida: 100\n",
            "Nivel: 1\n",
            "Experiencia: 0\n",
            "Fuerza: 1\n",
            "\n"
          ]
        }
      ]
    },
    {
      "cell_type": "code",
      "source": [
        "cap.golpear(thanos.vida)\n",
        "thanos.recibir_golpe(cap.fuerza)\n"
      ],
      "metadata": {
        "id": "QHmyBDep2Vux"
      },
      "execution_count": null,
      "outputs": []
    },
    {
      "cell_type": "code",
      "source": [
        "print(thanos)\n",
        "print()\n",
        "print(cap)"
      ],
      "metadata": {
        "colab": {
          "base_uri": "https://localhost:8080/"
        },
        "id": "Uuw0LKza2X78",
        "outputId": "83328280-fde6-4666-9461-e3cba8feaeac"
      },
      "execution_count": null,
      "outputs": [
        {
          "output_type": "stream",
          "name": "stdout",
          "text": [
            "nombre: Thanos\n",
            "Vida: 79\n",
            "Nivel: 1\n",
            "Experiencia: 0\n",
            "Fuerza: 1\n",
            "\n",
            "\n",
            "nombre: Steven\n",
            "Vida: 100\n",
            "Nivel: 1\n",
            "Experiencia: 0\n",
            "Fuerza: 1\n",
            "\n"
          ]
        }
      ]
    }
  ],
  "metadata": {
    "kernelspec": {
      "display_name": "Python 3.8.10 64-bit",
      "language": "python",
      "name": "python3"
    },
    "language_info": {
      "codemirror_mode": {
        "name": "ipython",
        "version": 3
      },
      "file_extension": ".py",
      "mimetype": "text/x-python",
      "name": "python",
      "nbconvert_exporter": "python",
      "pygments_lexer": "ipython3",
      "version": "3.8.10"
    },
    "orig_nbformat": 4,
    "vscode": {
      "interpreter": {
        "hash": "916dbcbb3f70747c44a77c7bcd40155683ae19c65e1c03b4aa3499c5328201f1"
      }
    },
    "colab": {
      "provenance": [],
      "include_colab_link": true
    }
  },
  "nbformat": 4,
  "nbformat_minor": 0
}