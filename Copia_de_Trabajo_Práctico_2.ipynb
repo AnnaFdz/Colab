{
  "cells": [
    {
      "cell_type": "markdown",
      "metadata": {
        "id": "view-in-github",
        "colab_type": "text"
      },
      "source": [
        "<a href=\"https://colab.research.google.com/github/AnnaFdz/Colab/blob/main/Copia_de_Trabajo_Pr%C3%A1ctico_2.ipynb\" target=\"_parent\"><img src=\"https://colab.research.google.com/assets/colab-badge.svg\" alt=\"Open In Colab\"/></a>"
      ]
    },
    {
      "cell_type": "markdown",
      "metadata": {
        "id": "hflO4zX4_S_d"
      },
      "source": [
        "# **Trabajo Práctico 2 - Estructuras de Control**"
      ]
    },
    {
      "cell_type": "markdown",
      "metadata": {
        "id": "XngQGq1M_S_f"
      },
      "source": [
        "### Ejercicio 1\n",
        "\n",
        "Hacer un programa que permita saber si un año es bisiesto. Para que un año sea bisiesto debe ser divisible por 4 y no debe ser divisible por 100, excepto que también sea divisible por 400.\n",
        "\n",
        "#### Ejemplo:\n",
        " \n",
        "AÑO 2012 es divisible por 4 y no por 100 => **ES BISIESTO**\n",
        "    \n",
        "AÑO 2022 no es divisible por 4 => **No ES BISISETO**\n",
        "    \n",
        "\n",
        "Año 2000 es divisible por 4, es divisible por 100 y es divisible por 400 => **ES BISIESTO**\n",
        "\n",
        "Año 1900 es divisible por 4, es divisible por 100 y no es divisible por 400 => **NO ES BISIESTO**\n"
      ]
    },
    {
      "cell_type": "code",
      "source": [
        "anio = int (input(\"Ingrese un año para ver si es bisiesto: \"))\n",
        "if anio%4==0:\n",
        "  if anio%100==0:\n",
        "    if anio%400==0 :\n",
        "      print(f\"El año {anio} es bisiesto\")\n",
        "    else:\n",
        "      print(f\"El año {anio} no es bisiesto\")\n",
        "  else:\n",
        "     print(f\"El año {anio} es bisiesto\")\n",
        "else:\n",
        "  print(f\"El año {anio} no es bisiesto\")\n",
        "\n",
        "\n"
      ],
      "metadata": {
        "id": "26iwHtXmu5hq",
        "colab": {
          "base_uri": "https://localhost:8080/"
        },
        "outputId": "4771d1a2-990f-4432-a1c6-8226570c3f69"
      },
      "execution_count": null,
      "outputs": [
        {
          "output_type": "stream",
          "name": "stdout",
          "text": [
            "Ingrese un año para ver si es bisiesto: 2021\n",
            "El año 2021 no wa bisiesto\n"
          ]
        }
      ]
    },
    {
      "cell_type": "code",
      "source": [
        "anio = int (input(\"Ingrese un año para ver si es bisiesto: \"))\n",
        "if anio%4==0 and not(anio%100==0):\n",
        "  print(f\"El año {anio} es bisiesto\")\n",
        "elif anio%100==0 and anio%400==0:\n",
        "  print(f\"El año {anio} es bisiesto\")\n",
        "else:\n",
        "    print(f\"El año {anio} no es bisiesto\")\n"
      ],
      "metadata": {
        "colab": {
          "base_uri": "https://localhost:8080/"
        },
        "id": "luDB79dryj6t",
        "outputId": "81bf70b8-bc83-42fa-fa1a-e48bd265d370"
      },
      "execution_count": null,
      "outputs": [
        {
          "output_type": "stream",
          "name": "stdout",
          "text": [
            "Ingrese un año para ver si es bisiesto: 2020\n",
            "El año 2020 es bisiesto\n"
          ]
        }
      ]
    },
    {
      "cell_type": "markdown",
      "metadata": {
        "id": "cLk9KiIL_S_g"
      },
      "source": [
        "### Ejercicio 2:\n",
        "\n",
        "Una local de comida rápida conocido de la ciudad ofrece hamburguesas vegetarianas y no vegetarianas a sus clientes.  \n",
        "  \n",
        "Los ingredientes para cada tipo aparecen a continuación:  \n",
        "* Ingredientes vegetarianos: calabaza - soja  \n",
        "* Ingredientes no vegetarianos: carne vacuna - carne de pollo  \n",
        "  \n",
        "Escribir un programa que pregunte al usuario si quiere una hamburguesa vegetariana o no, y en función de su respuesta le muestre un menú con los ingredientes disponibles para que elija. Solo se puede elegir un ingrediente. La lechuga, queso y el tomate están incluidos en todas las hamburguesas.  \n",
        "  \n",
        "Al final se debe mostrar por pantalla si la hamburguesa elegida es vegetariana o no y **todos** los ingredientes que lleva."
      ]
    },
    {
      "cell_type": "code",
      "source": [
        "opcion= input(\"Ingrese una opcion: V (Vegetariano) / NV (No Vegetariano): \")\n",
        "soja= False\n",
        "pollo= False\n",
        "if opcion == \"V\":\n",
        "  op_v= input(\"Quiere hamburguesa de soja(S) o calabaza(C). Elija una opcion: \")\n",
        "  if op_v==\"S\":\n",
        "    soja= True\n",
        "else:\n",
        "  op_NV= input(\"Quiere hamburguesa de carne vacuna(V) o de pollo(P). Elija una opcion: \")\n",
        "  if op_NV== \"P\":\n",
        "    pollo= True\n",
        "if opcion == \"V\":\n",
        "  if soja:\n",
        "    print(\"Hamburguesa elegida: Medallon de Soja + Tomate + Lechuga + Queso\")\n",
        "  else: \n",
        "    print(\"Hamburguesa elegida: Medallon de Calabaza + Tomate + Lechuga + Queso\")\n",
        "else:\n",
        "  if pollo:\n",
        "    print(\"Hamburguesa elegida: Medallon de pollo + Tomate + Lechuga + Queso\")\n",
        "  else:\n",
        "    print(\"Hamburguesa elegida: Medallon de carne vacuna + Tomate + Lechuga + Queso\")\n",
        "    # string.upper()       Todo a mayusculas\n",
        "# string.lower()       Todo a minuscula\n",
        "# string.capitalize()  Pone la primer letra en mayuscula y el resto en minuscula"
      ],
      "metadata": {
        "colab": {
          "base_uri": "https://localhost:8080/"
        },
        "id": "p_f434O30JEv",
        "outputId": "1eba0ef6-be64-42bb-aa7c-4413d3142cff"
      },
      "execution_count": null,
      "outputs": [
        {
          "output_type": "stream",
          "name": "stdout",
          "text": [
            "Ingrese una opcion: V (Vegetariano) / NV (No Vegetariano): V\n",
            "Quiere hamburguesa de soja(S) o calabaza(c). Elija una opcion: S\n",
            "Hamburguesa elegida: Medallon de Soja + Tomate + Lechuga + Queso\n"
          ]
        }
      ]
    },
    {
      "cell_type": "markdown",
      "metadata": {
        "id": "Gjtl-4PJ_S_h"
      },
      "source": [
        "### Ejercicio 3\n",
        "\n",
        "Se desea calcular el salario neto semanal de un trabajador en función del número de horas trabajadas en la semana y el precio que se paga por hora:  \n",
        "* Las primeras 35 horas se pagan a tarifa normal.  \n",
        "* Las horas que pasen de 35 se pagan a 1.5 veces la tarifa normal.  \n",
        "  \n",
        "El usuario debe ingresar la cantidad de horas trabajadas de la semana y la tarifa normal por hora. El programa debe mostrar como salida, el salario neto semanal del trabajador.  "
      ]
    },
    {
      "cell_type": "code",
      "source": [
        "horas= int(input(\"Ingrese la cabtidad de horas trabajadas: \"))\n",
        "tarifa_normal_hs= float(input(\"Ingrese la tarifa normal por hora: \"))\n",
        "salario_neto_semanal=0\n",
        "if horas >35:\n",
        "  salario_neto_semanal= 35*tarifa_normal_hs\n",
        "  horas -= 35 #cuantas hs quedan desp de las 35 hs, el exedente\n",
        "\n",
        "  salario_neto_semanal += horas*tarifa_normal_hs*1.5\n",
        "else:\n",
        "  salario_neto_semanal = horas * tarifa_normal_hs\n",
        "print(f\"El salario neeto semanal del tranajador es ${salario_neto_semanal}\")   "
      ],
      "metadata": {
        "colab": {
          "base_uri": "https://localhost:8080/"
        },
        "id": "kiOcNhYP4_I0",
        "outputId": "7a52f6b7-c75c-43e8-841e-02e600b1e5a8"
      },
      "execution_count": null,
      "outputs": [
        {
          "output_type": "stream",
          "name": "stdout",
          "text": [
            "Ingrese la cabtidad de horas trabajadas: 40\n",
            "Ingrese la tarifa normal por hora: 1000\n",
            "El salario neeto semanal del tranajador es $42500.0\n"
          ]
        }
      ]
    },
    {
      "cell_type": "markdown",
      "metadata": {
        "id": "Zuc_jMKW_S_i"
      },
      "source": [
        "### Ejercicio 4\n",
        "\n",
        "Escribir un programa que almacene una cadena de texto que contenga una contraseña cualquiera. Luego debe ofrecer 3 intentos para el ingreso de una nueva cadena de texto. Si la contraseña no coincide debe mostrar un mensaje diciendo \"Contraseña incorrecta\". Cuando las contraseñas coincidan ya no se deberá solicitar más ingresos y se mostrará un mensaje diciendo “FELICITACIONES”. Además deberá mostrar un mensaje advirtiendo “CONTRASEÑA BLOQUEADA” si falló todos los intentos.  \n",
        "  \n",
        "#### Ejemplos\n",
        "\n",
        "contraseña original: `*123#`  \n",
        "contraseña ingresada 1: `*123#`  \n",
        "salida: FELICITACIONES  \n",
        "  \n",
        "---\n",
        "  \n",
        "contraseña original: `*123#`  \n",
        "contraseña ingresada 1: `hola`  \n",
        "salida: Contraseña incorrecta  \n",
        "contraseña ingresada 2: `123456`  \n",
        "salida: Contraseña incorrecta  \n",
        "contraseña ingresada 3: `*123#`  \n",
        "salida: FELICITACIONES  \n",
        "  \n",
        "---\n",
        "  \n",
        "contraseña original: `*123#`  \n",
        "contraseña ingresada 1: `secreto`  \n",
        "salida: Contraseña incorrecta  \n",
        "contraseña ingresada 2: `123456`  \n",
        "salida: Contraseña incorrecta  \n",
        "contraseña ingresada 3: `alvlgeddl`  \n",
        "salida: Contraseña incorrecta  \n",
        "salida: CONTRASEÑA BLOQUEADA  "
      ]
    },
    {
      "cell_type": "code",
      "source": [
        "contrasenia = \"1234\"\n",
        "intentos = 1\n",
        "\n",
        "contrasenia_ingresada = input(\"Ingrese la contraseña: \")\n",
        "\n",
        "while contrasenia_ingresada!=contrasenia and intentos<3:\n",
        "    print(f\"Contraseña incorrecta.lleva {intentos} intentos\")\n",
        "    intentos+=1\n",
        "    contrasenia_ingresada = input(\"Ingrese la contraseña: \")\n",
        "if contrasenia_ingresada == contrasenia:\n",
        "    print(\"Contraseña correcta. Felicitaciones.\")\n",
        "else:\n",
        "    print(\"Intentó sin exito mas de 3 veces. Cuenta Bloqueada\")"
      ],
      "metadata": {
        "colab": {
          "base_uri": "https://localhost:8080/"
        },
        "id": "3zPu6F-27bWZ",
        "outputId": "aefe708c-581d-497a-9db2-39103b3d6f62"
      },
      "execution_count": null,
      "outputs": [
        {
          "output_type": "stream",
          "name": "stdout",
          "text": [
            "Ingrese la contraseña: 4566\n",
            "Contraseña incorrecta.lleva 1 intentos\n",
            "Ingrese la contraseña: 88645\n",
            "Contraseña incorrecta.lleva 2 intentos\n",
            "Ingrese la contraseña: 568\n",
            "Intento sin exito mas de 3 veces. Cuenta Bloqueada\n"
          ]
        }
      ]
    },
    {
      "cell_type": "markdown",
      "metadata": {
        "id": "eS7REn7z_S_j"
      },
      "source": [
        "### Ejercicio 5\n",
        "\n",
        "Crear un programa que solicite el ingreso de números enteros positivos, hasta que el usuario ingrese el 0. Por cada número, informar cuántos dígitos pares y cuántos impares tiene.  \n",
        "  \n",
        "Al finalizar informar la cantidad total de dígitos pares e impares contabilizados.  \n",
        "\n",
        "**Descomponer un número**  \n",
        "Para descomponer un número usaremos 2 operaciones. El resto y división entera por 10. Por ejemplo:  \n",
        "\n",
        "numero = 350  \n",
        "El resto de 350 por 10 es \"0\" (tenemos el ultimo digito de numero)  \n",
        "Si dividimos 350 por 10 parte entera el resultado es 35 => numero = 35  \n",
        "El resto de 35 por 10 es \"5\" (tenemos el ultimo digito de numero)  \n",
        "Si dividimos 35 por 10 parte entera el resultado es 3 => numero = 3  \n",
        "El resto de 3 por 10 es \"3\" (tenemos el ultimo digito de numero)  \n",
        "  \n",
        "Con este procedimiento pudimos descomponer el número 350."
      ]
    },
    {
      "cell_type": "code",
      "source": [
        "cont_pares= cont_impar=0\n",
        "num= int(input(\"Ingrese numeros, para terminar ingrese 0 \"))\n",
        "while num:#num distinto de 0. todos los num en bool(int) dan true menos 0, q da false\n",
        "  par=impar=0\n",
        "  aux= num\n",
        "  while num:\n",
        "    digito= num%10\n",
        "    if digito %2==0:\n",
        "      par+=1\n",
        "    else:\n",
        "      impar+=1\n",
        "    num //= 10\n",
        "  print(f\"{aux} tiene {par} digitos pares y {impar} digito impares\")       \n",
        "  cont_pares+= par\n",
        "  cont_impar += impar\n",
        "  num=int(input(\"Ingrese numeros, para terminar ingrese 0\"))\n",
        "  print(f\"En total se contaron {cont_pares} digitos pares y {cont_impar} digitos impares\")\n"
      ],
      "metadata": {
        "colab": {
          "base_uri": "https://localhost:8080/"
        },
        "id": "rtwrqymuDYAk",
        "outputId": "27195658-8b83-4335-b154-028277014340"
      },
      "execution_count": null,
      "outputs": [
        {
          "output_type": "stream",
          "name": "stdout",
          "text": [
            "Ingrese numeros, para terminar ingrese 056\n",
            "56 tiene 1 digitos pares y 1 digito impares\n",
            "Ingrese numeros, para terminar ingrese 07\n",
            "En total se contaron 1 digitos pares y 1 digitos impares\n",
            "7 tiene 0 digitos pares y 1 digito impares\n",
            "Ingrese numeros, para terminar ingrese 034\n",
            "En total se contaron 1 digitos pares y 2 digitos impares\n",
            "34 tiene 1 digitos pares y 1 digito impares\n",
            "Ingrese numeros, para terminar ingrese 00\n",
            "En total se contaron 2 digitos pares y 3 digitos impares\n"
          ]
        }
      ]
    },
    {
      "cell_type": "markdown",
      "metadata": {
        "id": "662d9VPD_S_j"
      },
      "source": [
        "### Ejercicio 6\n",
        "\n",
        "Escriba un programa en Python para imprimir todos los números primos entre 0 y 100 e imprima cuántos números primos hay.\n",
        "\n",
        "**Número Primo**: Un número natural, mayor a 1, es primo si y solo si tiene únicamente dos divisores positivos distintos, el 1 y él mismo.\n",
        "\n",
        "**Ejemplo**\n",
        "\n",
        "2 es divisible por 1 y por 2; eso quiere decir que ES PRIMO.\n",
        "  \n",
        "4 es divisible por 1 por 2 y por 4. Entonces existen 3 números que dividen a 4 por lo tanto NO ES PRIMO ya que no cumple con la definición."
      ]
    },
    {
      "cell_type": "code",
      "source": [],
      "metadata": {
        "id": "Dkj8Cx8pKHzQ"
      },
      "execution_count": null,
      "outputs": []
    },
    {
      "cell_type": "code",
      "source": [
        "num = int(input(\"Ingrese un numero: \"))\n",
        "if num == 2:\n",
        "  print(\"Es primo\")\n",
        "else:\n",
        "  posd= 2\n",
        "  while num%posd!=0:\n",
        "    posd+=1\n",
        "  if posd==num:\n",
        "    print(f\"{num} Es primo\")\n",
        "  else:\n",
        "    print(f\"{num} no es primo\")      \n"
      ],
      "metadata": {
        "id": "W9XcIn2zJQfL"
      },
      "execution_count": null,
      "outputs": []
    },
    {
      "cell_type": "code",
      "source": [
        "num = int(input(\"Ingrese un numero: \"))\n",
        "if num%2==0:\n",
        "  if num==2:\n",
        "    print(f\"{num} es primo\")\n",
        "  else:\n",
        "    print(f\"{num} no es primo\")\n",
        "else:\n",
        "  if num==3:\n",
        "    print(\"3 es primo\")    \n",
        "  else:\n",
        "    pd=3\n",
        "    while num%pd !=0 and pd*pd <num:\n",
        "      pd+=2      \n",
        "    if num%pd!=0:\n",
        "      print(f\"{num} es primo\")  \n",
        "    else:\n",
        "      print(f\"{num} no es primo\")\n"
      ],
      "metadata": {
        "colab": {
          "base_uri": "https://localhost:8080/"
        },
        "id": "gFS_FCmdNcWs",
        "outputId": "f1877377-f8af-4dd6-e014-92c21df9e47d"
      },
      "execution_count": null,
      "outputs": [
        {
          "output_type": "stream",
          "name": "stdout",
          "text": [
            "Ingrese un numero: 4\n",
            "4 no es primo\n"
          ]
        }
      ]
    },
    {
      "cell_type": "code",
      "source": [],
      "metadata": {
        "id": "rOSSP4CORJqk"
      },
      "execution_count": null,
      "outputs": []
    },
    {
      "cell_type": "code",
      "source": [
        "indice=0\n",
        "cantidad_primos=0\n",
        "while indice <=100:\n",
        "  if indice >1:\n",
        "    num= indice\n",
        "    if num%2==0:\n",
        "      if num==2:\n",
        "        print(f\"{num} es primo\")\n",
        "        cantidad_primos +=1\n",
        "    else:\n",
        "      if num==3:\n",
        "        print(\"3 es primo\")\n",
        "        cantidad_primos +=1\n",
        "      else:\n",
        "        pd=3\n",
        "        while num % pd !=0 and pd*pd <num:\n",
        "          pd+=2\n",
        "        if num%pd!=0:\n",
        "          print(f\"{num} es primo\")\n",
        "          cantidad_primos +=1\n",
        "  indice+=1\n",
        "\n",
        "print(f\"Se encontraron {cantidad_primos} numeros primos\")"
      ],
      "metadata": {
        "id": "DDpo-VT_QCWS"
      },
      "execution_count": null,
      "outputs": []
    },
    {
      "cell_type": "markdown",
      "metadata": {
        "id": "15TiAe5h_S_k"
      },
      "source": [
        "### Ejercicio 7\n",
        "\n",
        "Crear un programa que solicite el ingreso de números enteros positivos, hasta que el usuario ingrese el 0. Por cada número mostrarlo e informar si es capicúa.  \n",
        "  \n",
        "Un número es capicúa si se lee igual de adelante hacia atrás o de atrás hacia adelante."
      ]
    },
    {
      "cell_type": "code",
      "source": [
        "num= int(input(\"Ingrese numeros, para terminar ingrese 0 \"))\n",
        "while num!=0:\n",
        "  print(f'Numeros: {num}')\n",
        "  num_ingresado = num\n",
        "  num_invert=0\n",
        "  while num!=0:\n",
        "    digito = num%10\n",
        "    num_invert = num_invert*10+digito\n",
        "    num= num//10\n",
        "    \n",
        "  if num_ingresado != num_invert:\n",
        "      print(' no es capicua')\n",
        "  else:\n",
        "    print('es capicua')\n",
        "  num= int(input(\"Ingrese numeros\"))\n",
        "\n"
      ],
      "metadata": {
        "colab": {
          "base_uri": "https://localhost:8080/"
        },
        "id": "jSQgB_1-hKWA",
        "outputId": "06d7e736-2151-461b-e434-814f7ba558e5"
      },
      "execution_count": null,
      "outputs": [
        {
          "name": "stdout",
          "output_type": "stream",
          "text": [
            "Ingrese numeros, para terminar ingrese 0 1221\n",
            "Numeros: 1221\n",
            "es capicua\n",
            "Ingrese numeros0\n"
          ]
        }
      ]
    },
    {
      "cell_type": "code",
      "source": [
        "num = int(input(\"Ingrese un numero: \"))\n",
        "while num!=0:\n",
        "  aux= num\n",
        "  invertido=0\n",
        "  while aux:\n",
        "    digito= aux%10\n",
        "    aux= aux//10\n",
        "    invertido = invertido *10 + digito\n",
        "  if num == invertido:\n",
        "    print(f\"{num} es capicua\")\n",
        "  else:\n",
        "    print(f\"{num} no es capicua\")\n",
        "  num = int(input(\"Ingrese un numero: \"))"
      ],
      "metadata": {
        "id": "56mz-B6boRkI"
      },
      "execution_count": null,
      "outputs": []
    },
    {
      "cell_type": "markdown",
      "metadata": {
        "id": "9_X2fU7A_S_k"
      },
      "source": [
        "### Ejercicio 8\n",
        "\n",
        "Crear un programa que calcule el factorial de un número ingresado 'N' entero y positivo.  \n",
        "\n",
        "**Ref.: Modulo nro. 1 - Ejercicio de diagramación parte uno - \"ejercicio nro. 12\"**"
      ]
    },
    {
      "cell_type": "code",
      "source": [
        "num=int(input(\"Ingrese un numero: \"))\n",
        "factorial=1\n",
        "while num>0:\n",
        "  factorial= factorial*num\n",
        "  num-=1\n",
        "print(factorial) "
      ],
      "metadata": {
        "colab": {
          "base_uri": "https://localhost:8080/"
        },
        "id": "W1ciFReikNQf",
        "outputId": "6728b171-97e8-4b64-d92c-7e3869754a68"
      },
      "execution_count": null,
      "outputs": [
        {
          "output_type": "stream",
          "name": "stdout",
          "text": [
            "Ingrese un numero: 2\n",
            "2\n"
          ]
        }
      ]
    },
    {
      "cell_type": "markdown",
      "metadata": {
        "id": "LoQN8RWO_S_l"
      },
      "source": [
        "### Ejercicio 9\n",
        "\n",
        "Crear un programa para calcular MCD (máximo común divisor) de dos números enteros positivos. Se debe pedir al usuario que ingrese ambos numeros. Realizar el cálculo y mostrar el resultado por pantalla.  \n",
        "  \n",
        "  \n",
        "#### Máximo común divisor\n",
        "\n",
        "En matemáticas, se denomina máximo común divisor o MCD al mayor número que divide exactamente a dos o más números a la vez.  \n",
        "  \n",
        "**Ejemplo**:  \n",
        "Supogamos que tenemos el número 12 y el 16:  \n",
        "  \n",
        "* 1, 2, 3, **4**, 6, 12 dividen a 12 sin dejar resto.  \n",
        "* 1, 2, **4**, 8, 16 dividen a 16 sin dejar resto.  \n",
        "  \n",
        "Entonces el **MCD(12,16) = 4**,  ya que es el número más grande que divide ambos números sin dejar resto."
      ]
    },
    {
      "cell_type": "code",
      "source": [
        "num1=int(input(\"ingrese el primer numero: \"))\n",
        "num2=int(input(\"ingrese el segundo numero: \"))\n",
        "mcd=1\n",
        "divisor=2\n",
        "while divisor <=num1 and divisor<=num2:\n",
        "  if num1%divisor==0 and num2%divisor==0:\n",
        "    mcd=divisor\n",
        "  divisor+=1\n",
        "print(f\"mcd({num1}, {num2})= {mcd}\")    "
      ],
      "metadata": {
        "colab": {
          "base_uri": "https://localhost:8080/"
        },
        "id": "KWMgGE4HnH2m",
        "outputId": "d48813aa-80d1-4dd0-c1d0-eae062271e79"
      },
      "execution_count": null,
      "outputs": [
        {
          "output_type": "stream",
          "name": "stdout",
          "text": [
            "ingrese el primer numero: 12\n",
            "ingrese el segundo numero: 16\n",
            "mcd(12, 16)= 4\n"
          ]
        }
      ]
    },
    {
      "cell_type": "code",
      "source": [
        "# Algoritmo de euclides\n",
        "num1=int(input(\"Ingrese el primer numero: \"))\n",
        "num2=int(input(\"Ingrese el segundo numero: \"))\n",
        "n=num1\n",
        "m=num2\n",
        "while num1%num2!16=0:\n",
        "  aux=num1\n",
        "  num1=num2\n",
        "  num2=aux%num2\n",
        "  #num1,num2= num2,num1%num2\n",
        "print(f\"mcd({n},{m})= {num2}\")"
      ],
      "metadata": {
        "colab": {
          "base_uri": "https://localhost:8080/"
        },
        "id": "tYTiN_CEqsRF",
        "outputId": "19c222d1-d047-4fe6-f95f-97d3d8433d48"
      },
      "execution_count": null,
      "outputs": [
        {
          "output_type": "stream",
          "name": "stdout",
          "text": [
            "Ingrese el primer numero: 12\n",
            "Ingrese el segundo numero: 16\n",
            "mcd(12,16)= 4\n"
          ]
        }
      ]
    },
    {
      "cell_type": "code",
      "source": [
        "# MCM minimo comun multiplo\n",
        "# mcm(n,m)= n*m/mcd(n,m)\n",
        "\n",
        "num1=int(input(\"Ingrese el primer numero: \"))\n",
        "num2=int(input(\"Ingrese el segundo numero: \"))\n",
        "n=num1\n",
        "m=num2\n",
        "while num1%num2!=0:\n",
        "  aux= num1\n",
        "  num1=num2\n",
        "  num2= aux%num2\n",
        "print(f\"MCM{n,m}= {int(n*m/num2)}\")"
      ],
      "metadata": {
        "id": "_s_hJW5zteNT"
      },
      "execution_count": null,
      "outputs": []
    },
    {
      "cell_type": "markdown",
      "metadata": {
        "id": "WJQhxPu5_S_l"
      },
      "source": [
        "### Ejercicio 10\n",
        "\n",
        "Dado un número natural `k` ingresado, mostrar los numeros primos anterior a `k`.  \n",
        "  \n",
        "**Ejemplo**:  \n",
        "Si `k = 6` se mostrará: `2, 3, 5`"
      ]
    },
    {
      "cell_type": "code",
      "source": [
        "k=int(input(\"ingrese un numero hasta dode se mostraran los primos: \"))\n",
        "indice=2\n",
        "cantidad_primos=0\n",
        "while indice <=k:\n",
        "  num=indice\n",
        "  if num%2==0:\n",
        "    if num==2:\n",
        "      print(f\"{num} es primo\")\n",
        "      cantidad_primos +=1\n",
        "  else:\n",
        "    pd=3\n",
        "    while num % pd !=0 and pd*pd <num:\n",
        "      pd+=2\n",
        "    if num%pd!=0 or num==3:\n",
        "      print(f\"{num} es primo\")\n",
        "      cantidad_primos +=1\n",
        "  indice+=1\n",
        "print(f\"Se encontraron {cantidad_primos} numeros primos\")\n"
      ],
      "metadata": {
        "colab": {
          "base_uri": "https://localhost:8080/"
        },
        "id": "CS87j_p2v-Oq",
        "outputId": "212040ca-2890-481b-d239-bfd6845ac9b9"
      },
      "execution_count": null,
      "outputs": [
        {
          "output_type": "stream",
          "name": "stdout",
          "text": [
            "ingrese un numero hasta dode se mostraran los primos: 6\n",
            "2 es primo\n",
            "3 es primo\n",
            "5 es primo\n",
            "Se encontraron 3 numeros primos\n"
          ]
        }
      ]
    }
  ],
  "metadata": {
    "kernelspec": {
      "display_name": "Python 3.11.0 64-bit",
      "language": "python",
      "name": "python3"
    },
    "language_info": {
      "name": "python",
      "version": "3.11.0"
    },
    "orig_nbformat": 4,
    "vscode": {
      "interpreter": {
        "hash": "c18ae8fe89751170a9886ae5cc87d86f8c23fa3a8c1e2c8d4a10966a26ac4e01"
      }
    },
    "colab": {
      "provenance": [],
      "include_colab_link": true
    }
  },
  "nbformat": 4,
  "nbformat_minor": 0
}