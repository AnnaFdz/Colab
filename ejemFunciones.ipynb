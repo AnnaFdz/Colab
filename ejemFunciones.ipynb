{
  "nbformat": 4,
  "nbformat_minor": 0,
  "metadata": {
    "colab": {
      "provenance": [],
      "authorship_tag": "ABX9TyNBghwlj2v3Jox30DsBy2Fd",
      "include_colab_link": true
    },
    "kernelspec": {
      "name": "python3",
      "display_name": "Python 3"
    },
    "language_info": {
      "name": "python"
    }
  },
  "cells": [
    {
      "cell_type": "markdown",
      "metadata": {
        "id": "view-in-github",
        "colab_type": "text"
      },
      "source": [
        "<a href=\"https://colab.research.google.com/github/AnnaFdz/Colab/blob/main/ejemFunciones.ipynb\" target=\"_parent\"><img src=\"https://colab.research.google.com/assets/colab-badge.svg\" alt=\"Open In Colab\"/></a>"
      ]
    },
    {
      "cell_type": "code",
      "execution_count": null,
      "metadata": {
        "id": "TqtkoCdBl5lm"
      },
      "outputs": [],
      "source": [
        "grupo3 = [[\"Virginia\",\"Gutierrez\",\"Salta\",\"Boca Jrs\"],   \n",
        "            [\"Ana\",\"Fernandez\",\"Salta\",\"River Plate\"],\n",
        "           [\"Alejandro\",\"Frias\",\"Salta\",\"River Plate\"], \n",
        "           [\"Guillermo\",\"Gaston\",\"Salta\",\"Boca Jrs\"],\n",
        "           [\"Veronica\",\"Aguilar\",\"Salta\",\"River Plate\"],     \n",
        "            [\"Sergio\",\"Martinez\",\"Oran\",\"Independiente\"]] \n",
        "\n",
        "for fila in             "
      ]
    },
    {
      "cell_type": "code",
      "source": [
        "grupo3=[]\n",
        "# max(lista)\n",
        "# for i in range(len(personas[0])):\n",
        "#   print(personas[0][i],\"\\t\",personas[1][i],\"\\t\",personas[2][i])\n",
        "for i in range(6):\n",
        "  fila=[]\n",
        "  fila.append(input(\"nombre: \"))\n",
        "  fila.append(input(\"apellido: \"))\n",
        "  fila.append(input(\"ciudad: \"))\n",
        "  fila.append(input(\"club: \"))"
      ],
      "metadata": {
        "id": "CLxWq7uEpfDf"
      },
      "execution_count": null,
      "outputs": []
    },
    {
      "cell_type": "code",
      "source": [
        "lista = [x**2 for x in range(5)]\n",
        "lista = lista.pop()+7\n",
        "print(lista)"
      ],
      "metadata": {
        "colab": {
          "base_uri": "https://localhost:8080/"
        },
        "id": "nKZDg0JHuYhR",
        "outputId": "63a3ffa8-5928-4adf-af2e-2137f2f4d288"
      },
      "execution_count": null,
      "outputs": [
        {
          "output_type": "stream",
          "name": "stdout",
          "text": [
            "23\n"
          ]
        }
      ]
    },
    {
      "cell_type": "code",
      "source": [
        "def mostrar_elementos(lista):\n",
        "    for elem in lista:\n",
        "       print(elem)"
      ],
      "metadata": {
        "id": "KNCIyfe4kaEz"
      },
      "execution_count": null,
      "outputs": []
    },
    {
      "cell_type": "code",
      "source": [
        "def sumar(valor1,valor2):\n",
        "  resultado = valor1+valor2\n",
        "  return resultado\n",
        "\n",
        "\n",
        "num1= int(input(\"Ingrese un numero: \"))\n",
        "num2= int(input(\"Ingrese otro numero: \"))\n",
        "\n",
        "print(f\"El resultado de la suma entre {num1} y {num2} es {sumar(num1,num2)}\")\n"
      ],
      "metadata": {
        "id": "1B1Qvw373Wsq"
      },
      "execution_count": null,
      "outputs": []
    },
    {
      "cell_type": "code",
      "source": [
        "def es_primo(num):\n",
        "    cant = 0\n",
        "    divisor = 2\n",
        "    while divisor < num:\n",
        "        if num % divisor == 0:\n",
        "            cant = cant + 1\n",
        "        divisor = divisor + 1\n",
        "    if cant > 0:\n",
        "        return f\"el numero {num} no es primo\"\n",
        "    else:\n",
        "        return f\"el numero {num} es primo\"\n",
        "\n",
        "numero= 7\n",
        "es_primo(numero)        "
      ],
      "metadata": {
        "id": "woTID8WTNwOV"
      },
      "execution_count": null,
      "outputs": []
    },
    {
      "cell_type": "code",
      "source": [
        "def es_par(num):\n",
        "    \n",
        "    if num % 2 == 0:\n",
        "        return f\"el numero {num} no es par\"\n",
        "    else:\n",
        "        return f\"el numero {num} es impar\"\n",
        "\n",
        "numero= 7\n",
        "es_par(numero)                "
      ],
      "metadata": {
        "id": "AEcJVlnyN2Er"
      },
      "execution_count": null,
      "outputs": []
    },
    {
      "cell_type": "code",
      "source": [
        "def cont_vocales(cadena):\n",
        "    cant = 0\n",
        "    for caracter in cadena:\n",
        "        if caracter.lower() in \"aeiou\":\n",
        "            cant += 1\n",
        "    return f\"La cantidad de vocales en '{cadena}' es: {cant}\"\n",
        "\n",
        "frase=\"Hola Anny\"    \n",
        "cont_vocales(frase)"
      ],
      "metadata": {
        "colab": {
          "base_uri": "https://localhost:8080/",
          "height": 36
        },
        "id": "FMa2Faq9QBOh",
        "outputId": "841dd3d7-59bd-4341-a041-4fae1b31d8aa"
      },
      "execution_count": null,
      "outputs": [
        {
          "output_type": "execute_result",
          "data": {
            "text/plain": [
              "\"La cantidad de vocales en 'Hola Anny' es: 3\""
            ],
            "application/vnd.google.colaboratory.intrinsic+json": {
              "type": "string"
            }
          },
          "metadata": {},
          "execution_count": 3
        }
      ]
    },
    {
      "cell_type": "code",
      "source": [
        "def cant_digitos(num):\n",
        "    n=num\n",
        "    cant = 0\n",
        "    while num != 0:\n",
        "        cant +=1\n",
        "        num //= 10\n",
        "    return f\"La cantidad de dígitos de {n} es: {cant}\"\n",
        "numero=5784\n",
        "cant_digitos(numero)    "
      ],
      "metadata": {
        "colab": {
          "base_uri": "https://localhost:8080/",
          "height": 36
        },
        "id": "jk2H0crrQjtC",
        "outputId": "18c9d63d-ff42-44cf-ed2f-842296b06035"
      },
      "execution_count": null,
      "outputs": [
        {
          "output_type": "execute_result",
          "data": {
            "text/plain": [
              "'La cantidad de dígitos de 5784 es: 4'"
            ],
            "application/vnd.google.colaboratory.intrinsic+json": {
              "type": "string"
            }
          },
          "metadata": {},
          "execution_count": 5
        }
      ]
    },
    {
      "cell_type": "code",
      "source": [
        "def es_palindromo(cadena):\n",
        "  palindromo=True\n",
        "  for i in range(len(cadena)//2):   # recorre solo hasta la mitad para ser mas eficiente\n",
        "    if cadena[i] != cadena[-(i+1)]:   # compara primero con ultimo\n",
        "        palindromo = False\n",
        "        break\n",
        "  return palindromo\n",
        "frase = \"neuquen\"        \n",
        "print(es_palindromo(frase))\n"
      ],
      "metadata": {
        "colab": {
          "base_uri": "https://localhost:8080/"
        },
        "id": "bSKt-yO7QSW4",
        "outputId": "5c14a612-5da7-4f99-f135-722a3eef37b8"
      },
      "execution_count": null,
      "outputs": [
        {
          "output_type": "stream",
          "name": "stdout",
          "text": [
            "True\n"
          ]
        }
      ]
    },
    {
      "cell_type": "code",
      "source": [
        "def empaquetar_libro(libro):\n",
        "  libro = [\"Prólogo\", \"Capítulo 1\", \"Capítulo 2\", \"Capítulo 3\", \"Capítulo 4\", \"Capítulo Final\", \"Epílogo\"]\n",
        "  prologo, *capitulos, epilogo = libro\n",
        "\n",
        "  print(prologo)\n",
        "  print(capitulos)\n",
        "  print(epilogo)\n",
        "  return libro"
      ],
      "metadata": {
        "id": "ENeUhuy9UV1I"
      },
      "execution_count": null,
      "outputs": []
    },
    {
      "cell_type": "code",
      "source": [
        "def asignacion_precio(lista):\n",
        "  ventas = [(\"Mochila\", 8000, 50), (\"Cuaderno\", 900, 550), (\"Cartuchera\", 1500, 55)]\n",
        "\n",
        "for producto_nombre, precio, unidades_vendidas in ventas:\n",
        "    print(f'Recaudación de {producto_nombre}: ${precio*unidades_vendidas}')"
      ],
      "metadata": {
        "id": "HoMeyOyHVGRL"
      },
      "execution_count": null,
      "outputs": []
    },
    {
      "cell_type": "code",
      "source": [
        "# pasando una lista desordenada como parámetro\n",
        "lista = [65, 87, 2, 1, 43, 999, 233, 11, -8, -99, 10]\n",
        "print(\"De menor a mayor:\", sorted(lista))\n",
        "print(\"De mayor a menor:\", sorted(lista, reverse=True))"
      ],
      "metadata": {
        "id": "wr1RakTcie5J"
      },
      "execution_count": null,
      "outputs": []
    },
    {
      "cell_type": "code",
      "source": [
        "def reemplazar_no_capicuas(lista):\n",
        "    \"\"\"Reemplaza los números que no sean capicúa.\"\"\"\n",
        "    for i in range(len(lista)):\n",
        "        num=lista[i]\n",
        "        copia_num= num\n",
        "        nuevoNum=0\n",
        "        while num>0:\n",
        "          dig=int(num%10)\n",
        "          nuevoNum=nuevoNum*10 + dig\n",
        "          num=num//10\n",
        "        if copia_num!=nuevoNum:\n",
        "             lista[i]=nuevoNum\n",
        "    return lista\n",
        "\n",
        "lista=([121, 712, 219912, 3221, 41, 7, 101])\n",
        "reemplazar_no_capicuas(lista)\n",
        "print(\"La lista modificada es: \",lista)"
      ],
      "metadata": {
        "id": "o8NvdJibpefS"
      },
      "execution_count": null,
      "outputs": []
    },
    {
      "cell_type": "code",
      "source": [
        "colores = [\"rojo\", \"azul\", \"amarillo\",\"verde\"]\n",
        "for x in colores:\n",
        "  if x == \"rojo\":\n",
        "    continue\n",
        "  print(x)"
      ],
      "metadata": {
        "colab": {
          "base_uri": "https://localhost:8080/"
        },
        "id": "zlURQ_scHqL3",
        "outputId": "b360857a-bfa8-4e25-8912-3e7bbb0b5cda"
      },
      "execution_count": null,
      "outputs": [
        {
          "output_type": "stream",
          "name": "stdout",
          "text": [
            "azul\n",
            "amarillo\n",
            "verde\n"
          ]
        }
      ]
    },
    {
      "cell_type": "code",
      "source": [
        "l='''Python\n",
        "jiui\n",
        "lkjj'''\n",
        "print(l)\n"
      ],
      "metadata": {
        "colab": {
          "base_uri": "https://localhost:8080/"
        },
        "id": "9RvNNL3RUGsV",
        "outputId": "c6ccfa80-b803-4aab-aaef-00911a36d7b2"
      },
      "execution_count": null,
      "outputs": [
        {
          "output_type": "stream",
          "name": "stdout",
          "text": [
            "Python\n",
            "jiui\n",
            "lkjj\n"
          ]
        }
      ]
    },
    {
      "cell_type": "code",
      "source": [
        "x=0\n",
        "while x < 3:\n",
        "  x=x+1\n",
        "else :\n",
        "  for n in range (x,x+3):\n",
        "    print(n)"
      ],
      "metadata": {
        "colab": {
          "base_uri": "https://localhost:8080/"
        },
        "id": "YClZMNPkO3j-",
        "outputId": "b1bf9be7-9976-4f22-f460-fca3f0b2fc27"
      },
      "execution_count": null,
      "outputs": [
        {
          "output_type": "stream",
          "name": "stdout",
          "text": [
            "3\n",
            "4\n",
            "5\n"
          ]
        }
      ]
    },
    {
      "cell_type": "code",
      "source": [
        "p, q, r = 10,20,30\n",
        "print(p,q,r)"
      ],
      "metadata": {
        "colab": {
          "base_uri": "https://localhost:8080/"
        },
        "id": "XcQCZGo7XhuR",
        "outputId": "937d550b-f1e2-49f4-aaa8-e8d69a0a7109"
      },
      "execution_count": null,
      "outputs": [
        {
          "output_type": "stream",
          "name": "stdout",
          "text": [
            "10 20 30\n"
          ]
        }
      ]
    },
    {
      "cell_type": "code",
      "source": [
        "for i in range(1, 5):\n",
        "    print(i)\n",
        "else:\n",
        "    print(\"this is else block statement\" )"
      ],
      "metadata": {
        "colab": {
          "base_uri": "https://localhost:8080/"
        },
        "id": "K54Uk-sKYLXd",
        "outputId": "6bc1e972-4e70-4449-ac61-5b4229af235f"
      },
      "execution_count": null,
      "outputs": [
        {
          "output_type": "stream",
          "name": "stdout",
          "text": [
            "1\n",
            "2\n",
            "3\n",
            "4\n",
            "this is else block statement\n"
          ]
        }
      ]
    },
    {
      "cell_type": "code",
      "source": [
        "x = 36 / 4 * (3 +  2) * 4 + 2\n",
        "print(x)"
      ],
      "metadata": {
        "colab": {
          "base_uri": "https://localhost:8080/"
        },
        "id": "XKNusjzfY-3o",
        "outputId": "c602e84c-ec0e-4030-da29-33bc734f1f39"
      },
      "execution_count": null,
      "outputs": [
        {
          "output_type": "stream",
          "name": "stdout",
          "text": [
            "182.0\n"
          ]
        }
      ]
    },
    {
      "cell_type": "code",
      "source": [
        "conj=set()\n",
        "print(type(conj))"
      ],
      "metadata": {
        "colab": {
          "base_uri": "https://localhost:8080/"
        },
        "id": "yawdrAW19JmI",
        "outputId": "3427cfaf-89d7-4dfc-ca6d-a6a79c4160d0"
      },
      "execution_count": null,
      "outputs": [
        {
          "output_type": "stream",
          "name": "stdout",
          "text": [
            "<class 'set'>\n"
          ]
        }
      ]
    },
    {
      "cell_type": "code",
      "source": [
        "Buenas rendí y me toco la de contar dígitos que nos son letras de una oración. Y el otro ejercicio era reemplazar un número por otro de una lista"
      ],
      "metadata": {
        "id": "Gz3BNoKYrlkV"
      },
      "execution_count": null,
      "outputs": []
    },
    {
      "cell_type": "code",
      "source": [
        "  @staticmethod\n",
        "  def sumar_inf(*args):\n",
        "    suma = 0\n",
        "    for i in args:\n",
        "      suma += i\n",
        "    return suma"
      ],
      "metadata": {
        "id": "NUbG--EtwC0A"
      },
      "execution_count": null,
      "outputs": []
    }
  ]
}