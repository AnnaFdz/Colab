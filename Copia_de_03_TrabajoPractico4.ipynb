{
  "cells": [
    {
      "cell_type": "markdown",
      "metadata": {
        "id": "view-in-github",
        "colab_type": "text"
      },
      "source": [
        "<a href=\"https://colab.research.google.com/github/AnnaFdz/Colab/blob/main/Copia_de_03_TrabajoPractico4.ipynb\" target=\"_parent\"><img src=\"https://colab.research.google.com/assets/colab-badge.svg\" alt=\"Open In Colab\"/></a>"
      ]
    },
    {
      "cell_type": "markdown",
      "metadata": {
        "id": "-_R55sX_LFks"
      },
      "source": [
        "# **Trabajo Práctico 4 - Pilares de POO**"
      ]
    },
    {
      "cell_type": "markdown",
      "metadata": {
        "id": "TK4afo8aLFku"
      },
      "source": [
        "### Ejercicio 1\n",
        "\n",
        "Dado el siguiente Diagrama de clases, indique cual es la clase base y cual la derivada. Liste los atributos y métodos de la clase derivada.  \n",
        "  \n",
        "![imagen clases A y B](https://i.ibb.co/ZT0NKbF/clases-TP4-E1.png)  \n",
        "  \n"
      ]
    },
    {
      "cell_type": "markdown",
      "source": [],
      "metadata": {
        "id": "TJERSKUbQIdP"
      }
    },
    {
      "cell_type": "markdown",
      "source": [
        "clase B hereda de clase A y hereda el metodo1()y le agrega el metodo3(). Entonces la clase b tiene atributo 1,2,3"
      ],
      "metadata": {
        "id": "MyzVpCKsPBeo"
      }
    },
    {
      "cell_type": "markdown",
      "metadata": {
        "id": "-eoRVwmvLFkv"
      },
      "source": [
        "### Ejercicio 2\n",
        "\n",
        "Dada la clase `Personaje` vista en el TP2, defina una subclase `Caballero` que implemente un método `usar_espada` similar al método `golpear` en el cual en lugar de restar la fuerza propia a la vida del enemigo, reste el doble de la fuerza propia. Las demás restricciones se mantienen, si la vida propia es 0 mostrar el mensaje \"Game over\", si se resta toda la vida del enemigo mostrar el mensaje \"Has matado un enemigo.\" y añadir la experiencia al personaje."
      ]
    },
    {
      "cell_type": "code",
      "source": [
        "# Aplicando los nuevos conocimientos\n",
        "class Personaje:\n",
        "  id_personaje=0\n",
        "  def __init__(self,nombre):\n",
        "    self.nombre=nombre\n",
        "    self.vida= 100\n",
        "    self.nivel= 1\n",
        "    self.experiencia=0\n",
        "    self.fuerza=1\n",
        "    self.id=self.asignar_id()\n",
        "\n",
        "  @classmethod\n",
        "  def asignar_id(cls):\n",
        "    cls.id_personaje+=1\n",
        "    return cls.id_personaje\n",
        "\n",
        "  \n",
        "  def recibir_golpe(self,fuerza):\n",
        "    self.vida-=fuerza\n",
        "    if self.vida<=0:\n",
        "      self.vida=0\n",
        "      print(f\"Game over - {self.nombre}\")\n",
        "  \n",
        "  def reponer_vida(self,vida):\n",
        "    if self.vida==0:\n",
        "      print(\"Game over\")\n",
        "    else:\n",
        "      self.vida+=vida\n",
        "      if self.vida>100:\n",
        "        self.vida=100\n",
        "      print(\"Vida actual= \",self.vida)\n",
        "  \n",
        "  def golpear(self,enemigo):\n",
        "    if self.vida==0:\n",
        "      print(f\"Game over - {self.nombre}\")\n",
        "    else:\n",
        "      if enemigo.vida-self.fuerza<=0 and enemigo.vida!=0:\n",
        "        print(\"Has matado a un enemigo\")\n",
        "        self.ganar_exp(enemigo.vida)\n",
        "      enemigo.recibir_golpe(self.fuerza)\n",
        "\n",
        "  def ganar_exp(self,valor):\n",
        "    self.fuerza+=valor\n",
        "    self.experiencia+=valor\n",
        "    print(f\"Ganaste {valor} puntos de experiencia y fuerza\")\n",
        "    if self.experiencia>=10:\n",
        "      self.subir_nivel()\n",
        "      self.experiencia=0\n",
        "  \n",
        "  def subir_nivel(self):\n",
        "    self.nivel+=1\n",
        "    print(f\"Level up! Estás en el nivel {self.nivel}\")\n",
        "    if self.nivel==10:\n",
        "      print(f\"Nivel máximo alcanzado. Felicidades {self.nombre}! Reseteando.\")\n",
        "      self.nivel=1\n",
        "  \n",
        "  def __str__(self):\n",
        "    resultado= \"nombre: \"+self.nombre+\"\\n\"\n",
        "    resultado+=\"Vida: \"+str(self.vida)+\"\\n\"\n",
        "    resultado+=\"Nivel: \"+str(self.nivel)+\"\\n\"\n",
        "    resultado+=\"Experiencia: \"+str(self.experiencia)+\"\\n\"\n",
        "    resultado+=\"Fuerza: \"+str(self.fuerza)+\"\\n\"\n",
        "    return resultado\n",
        "\n",
        "thanos= Personaje(\"Thanos\")\n",
        "cap= Personaje(\"Steven\")\n",
        "print(thanos.vida)\n",
        "print(cap.fuerza)\n"
      ],
      "metadata": {
        "colab": {
          "base_uri": "https://localhost:8080/"
        },
        "id": "sMN5ycgDQbqe",
        "outputId": "61b7a20f-f504-45ae-9399-e206caa606bf"
      },
      "execution_count": null,
      "outputs": [
        {
          "output_type": "stream",
          "name": "stdout",
          "text": [
            "100\n",
            "1\n"
          ]
        }
      ]
    },
    {
      "cell_type": "code",
      "source": [
        "class Caballero(Personaje):\n",
        "  def usar_espada(self,enemigo):\n",
        "    if self.vida==0:\n",
        "      print(f\"Game over - {self.nombre}\")\n",
        "    else:\n",
        "      if enemigo.vida!=0:\n",
        "        if enemigo.vida-self.fuerza*2<=0:\n",
        "          print(\"Has matado a un enemigo\")\n",
        "          self.ganar_exp(enemigo.vida)\n",
        "        enemigo.recibir_golpe(self.fuerza*2)\n",
        "      \n",
        "\n",
        "isildur = Caballero(\"Isildur\")\n",
        "sauron = Personaje(\"Sauron\")        \n",
        "\n",
        "\n",
        "\n",
        "\n",
        "\n"
      ],
      "metadata": {
        "id": "aFmd081oVVTU"
      },
      "execution_count": null,
      "outputs": []
    },
    {
      "cell_type": "code",
      "source": [
        "def mostrar_info():\n",
        "      print(isildur)\n",
        "      print()\n",
        "      print(sauron)"
      ],
      "metadata": {
        "id": "cc7O0BIzXTEF"
      },
      "execution_count": null,
      "outputs": []
    },
    {
      "cell_type": "code",
      "source": [
        "isildur.usar_espada(sauron)"
      ],
      "metadata": {
        "id": "-_saa_39Wm3W"
      },
      "execution_count": null,
      "outputs": []
    },
    {
      "cell_type": "code",
      "source": [
        "isildur.golpear(sauron)"
      ],
      "metadata": {
        "id": "-jzsCQBZWiZs"
      },
      "execution_count": null,
      "outputs": []
    },
    {
      "cell_type": "code",
      "source": [
        "mostrar_info()"
      ],
      "metadata": {
        "colab": {
          "base_uri": "https://localhost:8080/"
        },
        "id": "vneNyH96XAC2",
        "outputId": "83290c8b-e154-47fc-fc1d-e6d3e1d149a6"
      },
      "execution_count": null,
      "outputs": [
        {
          "output_type": "stream",
          "name": "stdout",
          "text": [
            "nombre: Isildur\n",
            "Vida: 100\n",
            "Nivel: 1\n",
            "Experiencia: 0\n",
            "Fuerza: 1\n",
            "\n",
            "\n",
            "nombre: Sauron\n",
            "Vida: 100\n",
            "Nivel: 1\n",
            "Experiencia: 0\n",
            "Fuerza: 1\n",
            "\n"
          ]
        }
      ]
    },
    {
      "cell_type": "markdown",
      "metadata": {
        "id": "cw60EgGaLFk0"
      },
      "source": [
        "### Ejercicio 3\n",
        "\n",
        "Dada la clase `Personaje` vista en el TP2, defina una subclase `Mago` que además de los atributos que ya están implementados, añada el atributo `mana` inicializado con un valor de 100 (llamar al `__init__()` de la superclase).  \n",
        "Luego implemente un método `lanzar_hechizo`, similar al método `golpear`, el cual resta el doble de la fuerza a la vida del enemigo. Por cada uso de este método se debe restar el valor 10 del `mana`. Si el `mana` es menor a 10 mostrar un mensaje que diga \"No tienes mana suficiente para lanzar el hechizo\". Las demás restricciones se mantienen al igual que el ejercicio anterior.  \n",
        "  \n",
        "También implementar un método `reponer_mana` que reciba por parámetro un valor y sume ese valor al `mana` del `Mago`. El `mana` no puede ser menor a 0 o mayor a 100."
      ]
    },
    {
      "cell_type": "code",
      "source": [
        "class Mago(Personaje):\n",
        "  def __init__(self, nombre):\n",
        "    super().__init__(nombre)\n",
        "    self.mana =100\n",
        "  def lanzar_hechizo(self, enemigo):\n",
        "     if self.vida==0:\n",
        "        print(f\"Game over - {self.nombre}\")\n",
        "     else:   \n",
        "        if self.mana >=10:\n",
        "          if enemigo.vida!=0:\n",
        "            if enemigo.vida-self.fuerza*2<=0:\n",
        "              print(\"Has matado a un enemigo\")\n",
        "              self.ganar_exp(enemigo.vida)\n",
        "            enemigo.recibir_golpe(self.fuerza*2)\n",
        "            self.mana-=10\n",
        "        else:\n",
        "          print(\"No tiene mana suficiente para lanzar el hechizo\")    \n",
        "  def reponer_mana(self, mana):\n",
        "    self.mana+=mana\n",
        "    if self.mana>100:\n",
        "      self.mana=100\n",
        "  def __str__(self):\n",
        "    return super().__str__()+\"Mana: \"+str(self.mana)+\"\\n\""
      ],
      "metadata": {
        "id": "-9S96a_UXiSa"
      },
      "execution_count": null,
      "outputs": []
    },
    {
      "cell_type": "code",
      "source": [
        "gandalf=Mago(\"Gandalf\")\n",
        "\n"
      ],
      "metadata": {
        "id": "cGNiYw6uZvMq"
      },
      "execution_count": null,
      "outputs": []
    },
    {
      "cell_type": "code",
      "source": [
        "gandalf.lanzar_hechizo(sauron)"
      ],
      "metadata": {
        "id": "H0vxNqKLdn3M"
      },
      "execution_count": null,
      "outputs": []
    },
    {
      "cell_type": "code",
      "source": [
        "print(sauron)\n",
        "print()\n",
        "print(gandalf)"
      ],
      "metadata": {
        "colab": {
          "base_uri": "https://localhost:8080/"
        },
        "id": "wY6zl-lJa5sc",
        "outputId": "c233d3e4-3cca-4414-af85-aa796e97b500"
      },
      "execution_count": null,
      "outputs": [
        {
          "output_type": "stream",
          "name": "stdout",
          "text": [
            "nombre: Sauron\n",
            "Vida: 80\n",
            "Nivel: 1\n",
            "Experiencia: 0\n",
            "Fuerza: 1\n",
            "\n",
            "\n",
            "nombre: Gandalf\n",
            "Vida: 100\n",
            "Nivel: 1\n",
            "Experiencia: 0\n",
            "Fuerza: 1\n",
            "Mana: 80\n",
            "\n"
          ]
        }
      ]
    },
    {
      "cell_type": "code",
      "source": [
        "segundos=0\n",
        "while segundos<=50:#86400: # un dia\n",
        "  segundos+=1\n",
        "  if segundos%5==0:\n",
        "    gandalf.reponer_mana(1)\n",
        "  print(gandalf)\n",
        "  print(isildur)\n",
        "  print(sauron)"
      ],
      "metadata": {
        "id": "O27-D0G4e9Sl"
      },
      "execution_count": null,
      "outputs": []
    },
    {
      "cell_type": "markdown",
      "source": [
        "Ejercicio 4\n",
        "Tome la clase Mago y convierta el atributo mana en un atributo no público. Modifique los métodos que haga falta para mantener igual la implementación."
      ],
      "metadata": {
        "id": "UZp3yknFieUp"
      }
    },
    {
      "cell_type": "code",
      "source": [
        "class Mago(Personaje):\n",
        "  def __init__(self, nombre):\n",
        "    super().__init__(nombre)\n",
        "    self.mana = 100\n",
        "  @property\n",
        "  def mana(self):\n",
        "    return self._mana\n",
        "\n",
        "  @mana.setter\n",
        "  def mana(self, mana):\n",
        "    self._mana = mana\n",
        "\n",
        "  def lanzar_hechizo(self, enemigo):\n",
        "     if self.vida==0:\n",
        "        print(f\"Game over - {self.nombre}\")\n",
        "     else:   \n",
        "        if self.mana >=10:\n",
        "          if enemigo.vida!=0:\n",
        "            if enemigo.vida-self.fuerza*2<=0:\n",
        "              print(\"Has matado a un enemigo\")\n",
        "              self.ganar_exp(enemigo.vida)\n",
        "            enemigo.recibir_golpe(self.fuerza*2)\n",
        "            self.mana-=10\n",
        "        else:\n",
        "          print(\"No tiene mana suficiente para lanzar el hechizo\")    \n",
        "  def reponer_mana(self, mana):\n",
        "    self.mana+=mana\n",
        "    if self.mana>100:\n",
        "      self.mana=100\n",
        "  def __str__(self):\n",
        "    return super().__str__()+\"Mana: \"+str(self.mana)+\"\\n\""
      ],
      "metadata": {
        "id": "rFN1JLaeizcQ"
      },
      "execution_count": null,
      "outputs": []
    },
    {
      "cell_type": "code",
      "source": [
        "gandalf=Mago(\"Gandalf\")"
      ],
      "metadata": {
        "id": "vBS4b0H1jy6C"
      },
      "execution_count": null,
      "outputs": []
    },
    {
      "cell_type": "code",
      "source": [
        "gandalf.lanzar_hechizo(sauron)"
      ],
      "metadata": {
        "id": "uk1nlT7EkIJE"
      },
      "execution_count": null,
      "outputs": []
    },
    {
      "cell_type": "code",
      "source": [
        "segundos=0\n",
        "while segundos<=50:#86400: # un dia\n",
        "  segundos+=1\n",
        "  if segundos%5==0:\n",
        "    gandalf.reponer_mana(1)\n",
        "  print(gandalf)\n",
        "  print(isildur)\n",
        "  print(sauron)"
      ],
      "metadata": {
        "id": "h9aFp1iDlqOR"
      },
      "execution_count": null,
      "outputs": []
    },
    {
      "cell_type": "code",
      "source": [
        "import random\n",
        "segundos=0\n",
        "while segundos<=50:#86400: # un dia\n",
        "  atacar= random.randint(0,1)\n",
        "  if atacar==0:\n",
        "    gandalf.lanzar_hechizo(sauron)\n",
        "  else:\n",
        "    gandalf.lanzar_hechizo(isildur)\n",
        "  if segundos%5==0:\n",
        "    gandalf.reponer_mana(1)\n",
        "  print(gandalf)\n",
        "  print(isildur)\n",
        "  print(sauron)\n",
        "  segundos+=1"
      ],
      "metadata": {
        "id": "yWw9LYdapPtd"
      },
      "execution_count": null,
      "outputs": []
    },
    {
      "cell_type": "code",
      "source": [
        "print(sauron)\n",
        "print()\n",
        "print(gandalf)"
      ],
      "metadata": {
        "id": "zpMAC9FNlXQT"
      },
      "execution_count": null,
      "outputs": []
    }
  ],
  "metadata": {
    "kernelspec": {
      "display_name": "Python 3",
      "language": "python",
      "name": "python3"
    },
    "language_info": {
      "codemirror_mode": {
        "name": "ipython",
        "version": 3
      },
      "file_extension": ".py",
      "mimetype": "text/x-python",
      "name": "python",
      "nbconvert_exporter": "python",
      "pygments_lexer": "ipython3",
      "version": "3.11.2"
    },
    "orig_nbformat": 4,
    "vscode": {
      "interpreter": {
        "hash": "c812eb984687e98b7686c463c3fae2045e58b2a2b4e065b3dcebe3cb7d51662e"
      }
    },
    "colab": {
      "provenance": [],
      "include_colab_link": true
    }
  },
  "nbformat": 4,
  "nbformat_minor": 0
}